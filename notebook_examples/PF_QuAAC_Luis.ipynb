{
 "cells": [
  {
   "cell_type": "markdown",
   "id": "0fdf08f7-28a1-484a-bb7b-2ecb8b274de2",
   "metadata": {},
   "source": [
    "## This script uses the PicketFence.to_quaac() method of the pylinac package."
   ]
  },
  {
   "cell_type": "code",
   "execution_count": 19,
   "id": "f269c485-3919-44af-9362-ecf03acaa8a7",
   "metadata": {},
   "outputs": [
    {
     "name": "stdout",
     "output_type": "stream",
     "text": [
      "Python: 3.12.0\n",
      "Pylinac: 3.25.0\n"
     ]
    }
   ],
   "source": [
    "# Environment\n",
    "#   Windows 10\n",
    "import platform\n",
    "import pylinac\n",
    "\n",
    "print(f\"Python: {platform.python_version()}\")\n",
    "print(f\"Pylinac: {pylinac.__version__}\")"
   ]
  },
  {
   "cell_type": "code",
   "execution_count": 20,
   "id": "91566123-43f2-4e4e-b7ed-9fd98977a502",
   "metadata": {},
   "outputs": [],
   "source": [
    "from pylinac import PicketFence\n",
    "from quaac import User, Equipment, Attachment, Document, DataPoint"
   ]
  },
  {
   "cell_type": "markdown",
   "id": "d9304ad8-61e7-4e10-8194-d55255817fd9",
   "metadata": {},
   "source": [
    "## Create input for pylinac"
   ]
  },
  {
   "cell_type": "code",
   "execution_count": 21,
   "id": "cb47bac3-b3ca-4bea-a510-1690eb8fc148",
   "metadata": {},
   "outputs": [],
   "source": [
    "pf_img_path = r\"H:\\quaac_pylinac\\tests\\integration\\fixtures\\RI_PicketFence_G0.dcm\"\n",
    "pf = PicketFence(pf_img_path)\n",
    "pf.analyze()"
   ]
  },
  {
   "cell_type": "markdown",
   "id": "ed586f58-d49c-4ff5-a44e-107913890b8b",
   "metadata": {},
   "source": [
    "## Print results"
   ]
  },
  {
   "cell_type": "code",
   "execution_count": 22,
   "id": "ed72043e-e219-4f81-af68-ced5da72fe3f",
   "metadata": {},
   "outputs": [
    {
     "name": "stdout",
     "output_type": "stream",
     "text": [
      "Picket Fence Results:\n",
      "Gantry Angle (°): 0.0\n",
      "Collimator Angle (°): 0.0\n",
      "Tolerance (mm): 0.5\n",
      "Leaves passing (%): 100.0\n",
      "Absolute median error (mm): 0.022mm\n",
      "Mean picket spacing (mm): 15.0mmn\n",
      "Picket offsets from CAX (mm): 59.8 44.8 29.8 14.7 -0.4 -15.5 -30.3 -45.5 -60.6 -75.5\n",
      "Max Error: 0.107mm on Picket: 8, Leaf: 25\n",
      "MLC Skew: -0.072 degrees\n"
     ]
    }
   ],
   "source": [
    "print(pf.results())"
   ]
  },
  {
   "cell_type": "markdown",
   "id": "6e084ff3-666e-4f11-9a6a-416c12904c1f",
   "metadata": {},
   "source": [
    "## Create inputs for QuAAC"
   ]
  },
  {
   "cell_type": "code",
   "execution_count": 23,
   "id": "cee27679-3060-4052-9bd4-cc28b9c1eb2b",
   "metadata": {},
   "outputs": [],
   "source": [
    "pf_image_attachment = Attachment.from_file(pf_img_path)\n",
    "user = User(name=\"Luis Olivares\", email=\"luis@phys.com\")\n",
    "equipment = Equipment(name=\"Clinac-iX\", type=\"Linac\", serial_number=\"123\", manufacturer=\"Varian\", model=\"iX\")"
   ]
  },
  {
   "cell_type": "markdown",
   "id": "df3a7e3a-3a9d-4369-86ea-731d07c8a036",
   "metadata": {},
   "source": [
    "## Create QuAAC document as yaml"
   ]
  },
  {
   "cell_type": "code",
   "execution_count": 24,
   "id": "e1977b9d-195f-40ef-bd7c-bf773b596e9f",
   "metadata": {},
   "outputs": [],
   "source": [
    "path = \"PicketFence_G0.yaml\"\n",
    "pf.to_quaac(\n",
    "    path = path,\n",
    "    format = \"yaml\",\n",
    "    performer = user,\n",
    "    primary_equipment = equipment,\n",
    "    attachments = [pf_image_attachment],\n",
    "    overwrite = True,\n",
    "    )"
   ]
  },
  {
   "cell_type": "markdown",
   "id": "b82dccfc-ccca-4fb2-b47a-5a5cebecc72b",
   "metadata": {},
   "source": [
    "## Load the yaml file and print first lines"
   ]
  },
  {
   "cell_type": "code",
   "execution_count": 25,
   "id": "9a8de014-c118-481f-9a69-fbf8a821de15",
   "metadata": {},
   "outputs": [
    {
     "data": {
      "text/plain": [
       "[\"version: '1.0'\\n\",\n",
       " 'datapoints:\\n',\n",
       " '- name: Leaves passing\\n',\n",
       " \"  perform datetime: '2024-07-25T09:23:51.619087'\\n\",\n",
       " '  measurement value: 100.0\\n',\n",
       " \"  measurement unit: '%'\\n\",\n",
       " '  reference value: null\\n',\n",
       " '  description: The percentage of leaves that passed the tolerance test. A value of\\n',\n",
       " '    100% is ideal.\\n',\n",
       " \"  procedure: ''\\n\",\n",
       " '  performer: (Luis Olivares) cadce9cc4948d594fc50fd202b46a009\\n',\n",
       " \"  performer comment: ''\\n\",\n",
       " '  primary equipment: (Clinac-iX) 5af432b871171775c73aad282edb2f7f\\n',\n",
       " '  reviewer: null\\n',\n",
       " '  parameters:\\n',\n",
       " '    pylinac version: 3.25.0\\n',\n",
       " '  ancillary equipment: []\\n',\n",
       " '  attachments:\\n',\n",
       " '  - (RI_PicketFence_G0.dcm) 10a48c1d7983a6fa4146d6d8352bc22d\\n',\n",
       " '  hash: 56f59b29e5de1dde2c77f2033585c34d\\n']"
      ]
     },
     "execution_count": 25,
     "metadata": {},
     "output_type": "execute_result"
    }
   ],
   "source": [
    "with open(path) as yaml_file:\n",
    "    head = [next(yaml_file) for _ in range(20)]\n",
    "head"
   ]
  },
  {
   "cell_type": "markdown",
   "id": "04fec947-d166-41ad-9e4e-a1b7001c0867",
   "metadata": {},
   "source": [
    "## Work with another image (PF with angle gantry 90)"
   ]
  },
  {
   "cell_type": "code",
   "execution_count": 26,
   "id": "9fd5bd05-37c5-4282-bead-c50f3e9cd3dc",
   "metadata": {},
   "outputs": [
    {
     "name": "stdout",
     "output_type": "stream",
     "text": [
      "Picket Fence Results:\n",
      "Gantry Angle (°): 90.0\n",
      "Collimator Angle (°): 0.0\n",
      "Tolerance (mm): 0.5\n",
      "Leaves passing (%): 100.0\n",
      "Absolute median error (mm): 0.021mm\n",
      "Mean picket spacing (mm): 15.0mmn\n",
      "Picket offsets from CAX (mm): 59.4 44.3 29.3 14.2 -0.8 -15.8 -30.9 -45.9 -60.9 -75.9\n",
      "Max Error: 0.101mm on Picket: 9, Leaf: 31\n",
      "MLC Skew: -0.127 degrees\n"
     ]
    }
   ],
   "source": [
    "pf_img_path_G90 = r\"H:\\quaac_pylinac\\tests\\integration\\fixtures\\RI_PicketFence_G90.dcm\"\n",
    "pf_G90 = PicketFence(pf_img_path_G90)\n",
    "pf_G90.analyze()\n",
    "print(pf_G90.results())"
   ]
  },
  {
   "cell_type": "markdown",
   "id": "31949a9f-b9bf-46b4-8dc4-b751b62b38d0",
   "metadata": {},
   "source": [
    "## Creating another QuAAC file"
   ]
  },
  {
   "cell_type": "code",
   "execution_count": 27,
   "id": "ead420d7-f24a-4cc6-916e-594896c37afe",
   "metadata": {},
   "outputs": [],
   "source": [
    "path_G90 = \"PicketFence_G90.yaml\"\n",
    "pf_image_attachment_G90 = Attachment.from_file(pf_img_path_G90)\n",
    "pf_G90.to_quaac(\n",
    "    path = path_G90,\n",
    "    format = \"yaml\",\n",
    "    performer = user,\n",
    "    primary_equipment = equipment,\n",
    "    attachments = [pf_image_attachment_G90],\n",
    "    overwrite = True,\n",
    "    )"
   ]
  },
  {
   "cell_type": "markdown",
   "id": "04e927cc-9901-4f80-9c33-6741e5ace1a3",
   "metadata": {},
   "source": [
    "## Merging two Documents"
   ]
  },
  {
   "cell_type": "code",
   "execution_count": 28,
   "id": "b44d74de-6b3a-4648-a6fc-79ea172ecc51",
   "metadata": {},
   "outputs": [],
   "source": [
    "doc1 = Document.from_yaml_file(\"PicketFence_G0.yaml\")\n",
    "doc2 = Document.from_yaml_file(\"PicketFence_G90.yaml\")"
   ]
  },
  {
   "cell_type": "code",
   "execution_count": 29,
   "id": "74e5243f-cf9b-4452-bccf-395d88cf8d5d",
   "metadata": {},
   "outputs": [],
   "source": [
    "new_doc = doc1.merge([doc2])"
   ]
  },
  {
   "cell_type": "markdown",
   "id": "3bce0b0a-c5fc-45f0-9b9a-07259aeb4a7b",
   "metadata": {},
   "source": [
    "## Filtering"
   ]
  },
  {
   "cell_type": "code",
   "execution_count": 30,
   "id": "88371ac9-6db9-46f2-b53f-7979244c86de",
   "metadata": {},
   "outputs": [],
   "source": [
    "# Define a function to get the points by name\n",
    "def get_points_by_name(doc: Document, name: str) -> list[DataPoint]:\n",
    "    return [dp for dp in doc.datapoints if dp.name == name]"
   ]
  },
  {
   "cell_type": "code",
   "execution_count": 31,
   "id": "ec0ad30f-0838-4045-b137-f993bf656865",
   "metadata": {},
   "outputs": [],
   "source": [
    "points = get_points_by_name(new_doc, \"Max error\")\n",
    "measurements = [p.measurement_value for p in points]\n",
    "date = [p.perform_datetime for p in points]"
   ]
  },
  {
   "cell_type": "markdown",
   "id": "577ca4db-2d50-49a3-bd7b-0ffbca163b6e",
   "metadata": {},
   "source": [
    "## Plotting"
   ]
  },
  {
   "cell_type": "code",
   "execution_count": 32,
   "id": "e252cd3c-255a-4c47-a8a7-86f177800d53",
   "metadata": {},
   "outputs": [
    {
     "data": {
      "image/png": "[encoded data removed]",
      "text/plain": [
       "<Figure size 640x480 with 1 Axes>"
      ]
     },
     "metadata": {},
     "output_type": "display_data"
    }
   ],
   "source": [
    "import matplotlib.pyplot as plt\n",
    "import matplotlib.dates as mdates\n",
    "\n",
    "fig, ax = plt.subplots()\n",
    "\n",
    "ax.plot(date, measurements, \"g+\", markersize=15, mew=2)\n",
    "\n",
    "# Show reference and tolerance lines\n",
    "ax.axhline(0.5, linestyle = \"--\", linewidth = 3, color = \"r\", alpha = 0.7)\n",
    "ax.axhline(0, linestyle = \"--\", linewidth = 3, color = \"g\", alpha = 0.7)\n",
    "ax.grid(which=\"both\")\n",
    "\n",
    "# Format the date on the x-axis\n",
    "locator = mdates.AutoDateLocator(maxticks=7)\n",
    "ax.xaxis.set_major_formatter(mdates.ConciseDateFormatter(locator))"
   ]
  }
 ],
 "metadata": {
  "kernelspec": {
   "display_name": "Python 3 (ipykernel)",
   "language": "python",
   "name": "python3"
  },
  "language_info": {
   "codemirror_mode": {
    "name": "ipython",
    "version": 3
   },
   "file_extension": ".py",
   "mimetype": "text/x-python",
   "name": "python",
   "nbconvert_exporter": "python",
   "pygments_lexer": "ipython3",
   "version": "3.12.0"
  }
 },
 "nbformat": 4,
 "nbformat_minor": 5
}
